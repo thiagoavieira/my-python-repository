{
 "cells": [
  {
   "cell_type": "code",
   "execution_count": 3,
   "metadata": {},
   "outputs": [
    {
     "name": "stdout",
     "output_type": "stream",
     "text": [
      "Requirement already satisfied: plotly in c:\\users\\thiag\\appdata\\local\\programs\\python\\python310\\lib\\site-packages (5.11.0)\n",
      "Requirement already satisfied: tenacity>=6.2.0 in c:\\users\\thiag\\appdata\\local\\programs\\python\\python310\\lib\\site-packages (from plotly) (8.1.0)\n"
     ]
    }
   ],
   "source": [
    "!pip install -U plotly"
   ]
  },
  {
   "cell_type": "code",
   "execution_count": 4,
   "metadata": {},
   "outputs": [],
   "source": [
    "import pandas as pd\n",
    "import numpy as np\n",
    "import warnings\n",
    "warnings.filterwarnings(\"ignore\") # Filtro de avisos\n",
    "import plotly.graph_objects as go\n",
    "import matplotlib.pyplot as plt\n",
    "import plotly.express as px\n",
    "\n",
    "pd.set_option('display.max_columns', 500) # Número máximo de colunas para mostrar\n",
    "pd.set_option('display.max_rows', 100) # Número máximo de linhas para mostrar\n",
    "\n",
    "dataset = pd.read_csv(r'C:\\Users\\thiag\\Downloads\\Planilhas Estudos\\sigmageek\\Dataset_model.csv')\n",
    "submit = pd.read_csv(r'C:\\Users\\thiag\\Downloads\\Planilhas Estudos\\sigmageek\\Submit.csv', sep=';')"
   ]
  },
  {
   "cell_type": "code",
   "execution_count": 5,
   "metadata": {},
   "outputs": [],
   "source": [
    "x_y = []\n",
    "for i in range(1, 101):\n",
    "  x_y.append(i)"
   ]
  },
  {
   "cell_type": "code",
   "execution_count": 6,
   "metadata": {},
   "outputs": [],
   "source": [
    "xy = [10, 20, 30, 40, 50, 60, 70, 80, 90, 100]"
   ]
  },
  {
   "cell_type": "code",
   "execution_count": 7,
   "metadata": {},
   "outputs": [],
   "source": [
    "acertou = dataset.iloc[:, 15].values # COLUNA ACERTOU"
   ]
  },
  {
   "cell_type": "code",
   "execution_count": null,
   "metadata": {},
   "outputs": [],
   "source": [
    "# Número total de colunas 2000000 (2milhões) para 20000 alunos (20mil)\n",
    "for i in range(99, 10000, 100):\n",
    "  qtd_respostas = []\n",
    "  qtd_respostas = acertou[i-99:i+1]\n",
    "  qtd_acertos_sum = qtd_respostas.sum()\n",
    "  print(f\"Aluno {dataset['novo_user_id'][i-1]} da questão {i-99} até {i}: {qtd_acertos_sum}% acertos\")\n",
    "  contagem_acertos = []\n",
    "  \n",
    "  x = 0\n",
    "  cont = 0\n",
    "  for i in qtd_respostas:\n",
    "    cont += 1\n",
    "    x += i\n",
    "\n",
    "    if cont % 10 == 0 and cont != 0:\n",
    "      contagem_acertos.append(x/cont*100)\n",
    "      \n",
    "  print(contagem_acertos)\n",
    "  plt.xlabel(\"Nº de questões\")\n",
    "  plt.ylabel('% acertos')\n",
    "  plt.ylim(0, 100)\n",
    "  plt.plot(xy, contagem_acertos)\n",
    "  plt.show()"
   ]
  },
  {
   "cell_type": "code",
   "execution_count": null,
   "metadata": {},
   "outputs": [],
   "source": [
    "# Número total de colunas 2000000 (2milhões) para 20000 alunos (20mil)\n",
    "for i in range(99, 10000, 100):\n",
    "  qtd_respostas = []\n",
    "  qtd_respostas = acertou[i-99:i+1]\n",
    "  qtd_acertos_sum = qtd_respostas.sum()\n",
    "  print(f\"Aluno {dataset['novo_user_id'][i-1]} da questão {i-99} até {i}: {qtd_acertos_sum}% acertos\")\n",
    "  contagem_acertos = []\n",
    "\n",
    "  x = 0\n",
    "  cont = 0\n",
    "  for i in qtd_respostas:\n",
    "    cont += 1\n",
    "    x += i\n",
    "\n",
    "    if cont % 10 == 0 and cont != 0:\n",
    "      contagem_acertos.append(x/cont*100)\n",
    "  \n",
    "  print(contagem_acertos)\n",
    "  plt.xlabel(\"Nº de questões\")\n",
    "  plt.ylabel('% acertos')\n",
    "  plt.ylim(0, 100)\n",
    "  plt.plot(xy, contagem_acertos)\n",
    "plt.show()"
   ]
  },
  {
   "cell_type": "code",
   "execution_count": null,
   "metadata": {},
   "outputs": [],
   "source": [
    "# Número total de colunas 2000000 (2milhões) para 20000 alunos (20mil)\n",
    "medias = []\n",
    "for i in range(99, 10000, 100):\n",
    "  qtd_respostas = []\n",
    "  qtd_respostas = acertou[i-99:i+1]\n",
    "  qtd_acertos_sum = qtd_respostas.sum()\n",
    "  #print(f\"Aluno {dataset['novo_user_id'][i-1]} da questão {i-99} até {i}: {qtd_acertos_sum}% acertos\")\n",
    "  contagem_acertos = []\n",
    "  medias.append(qtd_acertos_sum)\n",
    "\n",
    "  #Pegar as médias de acertos a cada 10 questões\n",
    "  x = 0\n",
    "  cont = 0\n",
    "  for i in qtd_respostas:\n",
    "    cont += 1\n",
    "    x += i\n",
    "\n",
    "    if cont % 10 == 0 and cont != 0:\n",
    "      contagem_acertos.append(x/cont*100)\n",
    "\n",
    "  # Colocando no gráfico\n",
    "  #print(contagem_acertos)\n",
    "  plt.xlabel(\"Nº de questões\")\n",
    "  plt.ylabel('% acertos')\n",
    "  plt.ylim(0, 100)\n",
    "  plt.plot(xy, contagem_acertos)\n",
    "plt.show()\n",
    "print(f\"Média dos 100 alunos:\", sum(medias)/len(medias))"
   ]
  },
  {
   "cell_type": "code",
   "execution_count": 106,
   "metadata": {},
   "outputs": [],
   "source": [
    "porcentagem_por_aluno = []\n",
    "porcentagem_por_partes = []\n",
    "index = 1\n",
    "divisao = 10\n",
    "gerar_alunos = 200\n",
    "for i in range(gerar_alunos):\n",
    "  for j in range(10):\n",
    "    porcentagem_por_partes.append(dataset.loc[dataset['novo_user_id'] == index, ['acertou']].head(divisao).value_counts(normalize=True)[1] * 100)\n",
    "    divisao += 10\n",
    "\n",
    "  porcentagem_por_aluno.append(porcentagem_por_partes)\n",
    "  porcentagem_por_partes = [] \n",
    "  divisao = 10\n",
    "  index += 1"
   ]
  },
  {
   "cell_type": "code",
   "execution_count": 110,
   "metadata": {},
   "outputs": [
    {
     "name": "stdout",
     "output_type": "stream",
     "text": [
      "[70.7, 70.0, 69.50000000000001, 69.5, 68.82, 68.58333333333334, 68.77142857142859, 69.1875, 68.95555555555558, 69.11]\n"
     ]
    }
   ],
   "source": [
    "index = 0\n",
    "divisao = 0\n",
    "aux = 0\n",
    "medias_por_pontos = []\n",
    "num_alunos = 100\n",
    "for i in range(10):\n",
    "  for j in range(num_alunos):\n",
    "    aux += porcentagem_por_aluno[index][divisao]\n",
    "    index += 1\n",
    "  index = 0\n",
    "  medias_por_pontos.append(aux/num_alunos)\n",
    "  aux = 0\n",
    "  divisao += 1\n",
    "\n",
    "print(medias_por_pontos)"
   ]
  },
  {
   "cell_type": "code",
   "execution_count": null,
   "metadata": {},
   "outputs": [],
   "source": [
    "import seaborn as sns\n",
    "# Número total de colunas 2000000 (2milhões) para 20000 alunos (20mil)\n",
    "data = []\n",
    "for i in range(99, 10000, 100):\n",
    "  qtd_respostas = acertou[i-99:i+1]\n",
    "  aluno = dataset['novo_user_id'][i-1]\n",
    "\n",
    "  x = 0\n",
    "  cont = 0\n",
    "  for i in qtd_respostas:\n",
    "    cont += 1\n",
    "    x += i\n",
    "\n",
    "    if cont % 10 == 0 and cont != 0:\n",
    "      contagem_acertos.append(x/cont*100)\n",
    "      data += [\n",
    "        {'id': aluno, 'questoes_concluidas': cont, 'porc_acertos': x/cont*100}\n",
    "      ]\n",
    "\n",
    "df = pd.DataFrame(data)\n",
    "print(df)"
   ]
  },
  {
   "cell_type": "code",
   "execution_count": null,
   "metadata": {},
   "outputs": [],
   "source": [
    "plt.ylim(60, 100)\n",
    "sns.lineplot(data=df, x=\"questoes_concluidas\", y=\"porc_acertos\")"
   ]
  },
  {
   "cell_type": "code",
   "execution_count": 128,
   "metadata": {},
   "outputs": [],
   "source": [
    "sorted_by_time = dataset.sort_values('created_at')"
   ]
  },
  {
   "cell_type": "code",
   "execution_count": null,
   "metadata": {},
   "outputs": [],
   "source": [
    "dataset.head(5).T"
   ]
  },
  {
   "cell_type": "code",
   "execution_count": null,
   "metadata": {},
   "outputs": [],
   "source": [
    "for i in range(0, 100):\n",
    "  print(sorted_by_time[\"novo_question_id\"][i])"
   ]
  },
  {
   "cell_type": "code",
   "execution_count": null,
   "metadata": {},
   "outputs": [],
   "source": [
    "df.head(20)"
   ]
  }
 ],
 "metadata": {
  "kernelspec": {
   "display_name": "Python 3.10.2 64-bit",
   "language": "python",
   "name": "python3"
  },
  "language_info": {
   "codemirror_mode": {
    "name": "ipython",
    "version": 3
   },
   "file_extension": ".py",
   "mimetype": "text/x-python",
   "name": "python",
   "nbconvert_exporter": "python",
   "pygments_lexer": "ipython3",
   "version": "3.10.2"
  },
  "orig_nbformat": 4,
  "vscode": {
   "interpreter": {
    "hash": "d044c6e0ce06759120adefce77398d00e1228e64d92f3f185fbd024a7701b8e0"
   }
  }
 },
 "nbformat": 4,
 "nbformat_minor": 2
}
