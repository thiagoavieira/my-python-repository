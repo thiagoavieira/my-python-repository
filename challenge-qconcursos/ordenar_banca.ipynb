{
  "cells": [
    {
      "cell_type": "markdown",
      "source": [
        "# Import"
      ],
      "metadata": {
        "id": "2fA9xktGsSC6"
      }
    },
    {
      "cell_type": "code",
      "execution_count": null,
      "metadata": {
        "id": "8CIidjxanx0-",
        "colab": {
          "base_uri": "https://localhost:8080/"
        },
        "outputId": "57eb3396-b8d5-4fde-9b38-6dd8bdba824a"
      },
      "outputs": [
        {
          "output_type": "stream",
          "name": "stdout",
          "text": [
            "Mounted at /content/drive\n"
          ]
        }
      ],
      "source": [
        "import pandas as pd\n",
        "import numpy as np\n",
        "from sklearn.impute import SimpleImputer\n",
        "from google.colab import drive\n",
        "drive.mount('/content/drive')"
      ]
    },
    {
      "cell_type": "code",
      "source": [
        "df = pd.read_csv('/content/drive/My Drive/Datasets/Qconcursos/dataset_instantes.csv', low_memory=False, index_col=0)"
      ],
      "metadata": {
        "id": "y0m5Am5XtxQO"
      },
      "execution_count": null,
      "outputs": []
    },
    {
      "cell_type": "code",
      "source": [
        "#df['difficulty'].fillna(2, inplace=True)\n",
        "#df['discipline_id'].fillna(62, inplace=True)\n",
        "#df['institute_id'].fillna(3796, inplace=True)\n",
        "#df['knowledge_area_id'].fillna(12, inplace=True)\n",
        "#df['modality_id'].fillna(1, inplace=True)\n",
        "#df['commented_by_professor'].fillna(0, inplace=True)"
      ],
      "metadata": {
        "id": "3zrdHGoOt12v"
      },
      "execution_count": null,
      "outputs": []
    },
    {
      "cell_type": "code",
      "source": [
        "df_area = df\n",
        "df_banca = df"
      ],
      "metadata": {
        "id": "tTnDCbZOjFUO"
      },
      "execution_count": null,
      "outputs": []
    },
    {
      "cell_type": "markdown",
      "source": [
        "# Execução"
      ],
      "metadata": {
        "id": "IRZlPYK8sU_s"
      }
    },
    {
      "cell_type": "code",
      "execution_count": null,
      "metadata": {
        "id": "tRO8R1IUnx1L"
      },
      "outputs": [],
      "source": [
        "df_area['knowledge_area_id']=np.where(df_area['knowledge_area_id'] == 9, 'A',\n",
        "                             np.where(df_area['knowledge_area_id'] == 14,'B',\n",
        "                             np.where(df_area['knowledge_area_id'] == 13,'C',\n",
        "                             np.where(df_area['knowledge_area_id'] == 15,'D',\n",
        "                             np.where(df_area['knowledge_area_id'] == 2, 'E', 'F')))))"
      ]
    },
    {
      "cell_type": "code",
      "source": [
        "df_area['knowledge_area_id']=np.where(df_area['knowledge_area_id'] == 'A', 0,\n",
        "                             np.where(df_area['knowledge_area_id'] == 'B', 1,\n",
        "                             np.where(df_area['knowledge_area_id'] == 'C', 2,\n",
        "                             np.where(df_area['knowledge_area_id'] == 'D', 3,\n",
        "                             np.where(df_area['knowledge_area_id'] == 'E', 4, 5)))))"
      ],
      "metadata": {
        "id": "T721UfR2rkH4"
      },
      "execution_count": null,
      "outputs": []
    },
    {
      "cell_type": "code",
      "source": [
        "df_area['examining_board_id']=np.where(df_area['examining_board_id'] == 2,   'A',\n",
        "                              np.where(df_area['examining_board_id'] == 1,   'B',\n",
        "                              np.where(df_area['examining_board_id'] == 63,  'C',\n",
        "                              np.where(df_area['examining_board_id'] == 152, 'D',\n",
        "                              np.where(df_area['examining_board_id'] == 189, 'E', \n",
        "                              np.where(df_area['examining_board_id'] == 235, 'F',\n",
        "                              np.where(df_area['examining_board_id'] == 379, 'G',\n",
        "                              np.where(df_area['examining_board_id'] == 73,  'H',\n",
        "                              np.where(df_area['examining_board_id'] == 5,   'I',\n",
        "                              np.where(df_area['examining_board_id'] == 1169,'J',\n",
        "                              np.where(df_area['examining_board_id'] == 41,  'K',\n",
        "                              np.where(df_area['examining_board_id'] == 276, 'L',\n",
        "                              np.where(df_area['examining_board_id'] == 61,  'M',\n",
        "                              np.where(df_area['examining_board_id'] == 207, 'N',\n",
        "                              np.where(df_area['examining_board_id'] == 195, 'O',\n",
        "                              np.where(df_area['examining_board_id'] == 16,  'P',\n",
        "                              np.where(df_area['examining_board_id'] == 74,  'Q',\n",
        "                              np.where(df_area['examining_board_id'] == 246, 'R',\n",
        "                              np.where(df_area['examining_board_id'] == 68,  'S',\n",
        "                              np.where(df_area['examining_board_id'] == 352, 'T','U'))))))))))))))))))))\n",
        "\n",
        "df_area['examining_board_id']=np.where(df_area['examining_board_id'] == 'A', 0,\n",
        "                              np.where(df_area['examining_board_id'] == 'B', 1,\n",
        "                              np.where(df_area['examining_board_id'] == 'C', 2,\n",
        "                              np.where(df_area['examining_board_id'] == 'D', 3,\n",
        "                              np.where(df_area['examining_board_id'] == 'E', 4,\n",
        "                              np.where(df_area['examining_board_id'] == 'F', 5,\n",
        "                              np.where(df_area['examining_board_id'] == 'G', 6,\n",
        "                              np.where(df_area['examining_board_id'] == 'H', 7,\n",
        "                              np.where(df_area['examining_board_id'] == 'I', 8,\n",
        "                              np.where(df_area['examining_board_id'] == 'J', 9,\n",
        "                              np.where(df_area['examining_board_id'] == 'K', 10,\n",
        "                              np.where(df_area['examining_board_id'] == 'L', 11,\n",
        "                              np.where(df_area['examining_board_id'] == 'M', 12,\n",
        "                              np.where(df_area['examining_board_id'] == 'N', 13,\n",
        "                              np.where(df_area['examining_board_id'] == 'O', 14,\n",
        "                              np.where(df_area['examining_board_id'] == 'P', 15,\n",
        "                              np.where(df_area['examining_board_id'] == 'Q', 16,\n",
        "                              np.where(df_area['examining_board_id'] == 'R', 17,\n",
        "                              np.where(df_area['examining_board_id'] == 'S', 18,\n",
        "                              np.where(df_area['examining_board_id'] == 'T', 19, 20))))))))))))))))))))"
      ],
      "metadata": {
        "id": "h6GMA1NAwE7-"
      },
      "execution_count": null,
      "outputs": []
    },
    {
      "cell_type": "code",
      "execution_count": null,
      "metadata": {
        "id": "0NwtWjyYnx1N",
        "outputId": "4489eb1f-5a91-4b35-bb2b-5ea26d7148e2",
        "colab": {
          "base_uri": "https://localhost:8080/"
        }
      },
      "outputs": [
        {
          "output_type": "execute_result",
          "data": {
            "text/plain": [
              "0    55.59410\n",
              "1    16.06030\n",
              "5    15.16280\n",
              "2     5.71745\n",
              "3     4.02735\n",
              "4     3.43800\n",
              "Name: knowledge_area_id, dtype: float64"
            ]
          },
          "metadata": {},
          "execution_count": 8
        }
      ],
      "source": [
        "kk = (df_area['knowledge_area_id'].value_counts()/df_area['knowledge_area_id'].value_counts().sum())*100\n",
        "kk.head(10)"
      ]
    },
    {
      "cell_type": "code",
      "source": [
        "kk = (df_area['examining_board_id'].value_counts()/df_area['examining_board_id'].value_counts().sum())*100\n",
        "kk.head(20)"
      ],
      "metadata": {
        "colab": {
          "base_uri": "https://localhost:8080/"
        },
        "id": "xdF1t9jOxnfD",
        "outputId": "a180defd-1686-4258-89a9-277d75af518f"
      },
      "execution_count": null,
      "outputs": [
        {
          "output_type": "execute_result",
          "data": {
            "text/plain": [
              "0     29.30195\n",
              "20    23.04130\n",
              "1      9.25690\n",
              "2      8.47720\n",
              "3      8.38025\n",
              "4      2.97200\n",
              "5      2.96890\n",
              "6      2.51775\n",
              "7      1.83430\n",
              "8      1.35910\n",
              "9      1.33850\n",
              "10     1.13945\n",
              "11     1.09480\n",
              "12     0.96260\n",
              "13     0.89235\n",
              "14     0.88580\n",
              "15     0.87315\n",
              "16     0.75180\n",
              "17     0.69770\n",
              "18     0.64665\n",
              "Name: examining_board_id, dtype: float64"
            ]
          },
          "metadata": {},
          "execution_count": 9
        }
      ]
    },
    {
      "cell_type": "code",
      "execution_count": null,
      "metadata": {
        "id": "IjQbJTBdnx1U",
        "outputId": "2c50222e-0e1f-43f8-8652-8a1c6f9665e4",
        "colab": {
          "base_uri": "https://localhost:8080/"
        }
      },
      "outputs": [
        {
          "output_type": "stream",
          "name": "stdout",
          "text": [
            "0 id\n",
            "1 created_at\n",
            "2 acertou\n",
            "3 questao\n",
            "4 examining_board_id\n",
            "5 % de acerto do usuario\n",
            "6 % de acerto das ultimas 5\n",
            "7 % de acerto da questao\n",
            "8 % de acertos total da questao\n",
            "9 % de acerto da banca\n",
            "10 difficulty\n",
            "11 commented_by_professor\n",
            "12 discipline_id\n",
            "13 knowledge_area_id\n",
            "14 institute_id\n",
            "15 modality_id\n"
          ]
        }
      ],
      "source": [
        "count = 0\n",
        "for col in df_area.columns:\n",
        "    print(count, col)\n",
        "    count+=1"
      ]
    },
    {
      "cell_type": "markdown",
      "source": [
        "# Treinamento"
      ],
      "metadata": {
        "id": "fyilV8SDsla0"
      }
    },
    {
      "cell_type": "code",
      "execution_count": null,
      "metadata": {
        "id": "t5b_V0Khnx1V",
        "outputId": "4cf24fda-5658-4245-f571-dffbdaad80bd",
        "colab": {
          "base_uri": "https://localhost:8080/"
        }
      },
      "outputs": [
        {
          "output_type": "execute_result",
          "data": {
            "text/plain": [
              "array([[ 0.        ,  0.        ,  0.        ,  0.        , 28.57142857,\n",
              "         0.        ],\n",
              "       [ 0.        ,  0.        ,  0.        ,  0.        , 28.57142857,\n",
              "         0.        ],\n",
              "       [ 0.        ,  0.        , 33.33333333, 33.33333333, 28.57142857,\n",
              "        33.33333333],\n",
              "       ...,\n",
              "       [ 4.        , 15.        , 80.        , 66.66666667, 66.66666667,\n",
              "        65.63770689],\n",
              "       [ 4.        , 15.        , 60.        ,  0.        ,  0.        ,\n",
              "        65.633948  ],\n",
              "       [ 4.        , 15.        , 80.        , 50.        , 50.        ,\n",
              "        65.63018954]])"
            ]
          },
          "metadata": {},
          "execution_count": 11
        }
      ],
      "source": [
        "x_dataset = df_banca.iloc[:, [13, 4, 6, 7, 8, 9]].values\n",
        "x_dataset"
      ]
    },
    {
      "cell_type": "code",
      "execution_count": null,
      "metadata": {
        "id": "_hIsXgwInx1V",
        "outputId": "3ebe0593-76a4-4c5a-ce6f-a6078ce0f254",
        "colab": {
          "base_uri": "https://localhost:8080/"
        }
      },
      "outputs": [
        {
          "output_type": "execute_result",
          "data": {
            "text/plain": [
              "array([0, 0, 1, ..., 1, 0, 1])"
            ]
          },
          "metadata": {},
          "execution_count": 12
        }
      ],
      "source": [
        "y_dataset = df_banca.iloc[:, 2].values # COLUNA ACERTOU\n",
        "y_dataset"
      ]
    },
    {
      "cell_type": "code",
      "execution_count": null,
      "metadata": {
        "id": "HVRPK66xnx1W",
        "outputId": "6cc530b5-57a4-47a5-b395-1b081fa55a6e",
        "colab": {
          "base_uri": "https://localhost:8080/"
        }
      },
      "outputs": [
        {
          "output_type": "execute_result",
          "data": {
            "text/plain": [
              "(2000000, 6)"
            ]
          },
          "metadata": {},
          "execution_count": 13
        }
      ],
      "source": [
        "x_dataset.shape"
      ]
    },
    {
      "cell_type": "code",
      "execution_count": null,
      "metadata": {
        "id": "plQkdPYznx1X"
      },
      "outputs": [],
      "source": [
        "from sklearn.preprocessing import OneHotEncoder\n",
        "from sklearn.compose import ColumnTransformer"
      ]
    },
    {
      "cell_type": "code",
      "execution_count": null,
      "metadata": {
        "id": "ozyFarCvnx1X"
      },
      "outputs": [],
      "source": [
        "#Formato de lista no transformers\n",
        "#onehotencoder = ColumnTransformer(transformers=[('OneHot', OneHotEncoder(), [0])], remainder='passthrough')"
      ]
    },
    {
      "cell_type": "code",
      "execution_count": null,
      "metadata": {
        "id": "yI0j8x5xnx1Y"
      },
      "outputs": [],
      "source": [
        "#x_dataset = onehotencoder.fit_transform(x_dataset).toarray() #Fazer a conversão do numpy array"
      ]
    },
    {
      "cell_type": "code",
      "execution_count": null,
      "metadata": {
        "id": "_pUIcDcHnx1Z"
      },
      "outputs": [],
      "source": [
        "from sklearn.preprocessing import StandardScaler\n",
        "scaler = StandardScaler(with_mean=False)\n",
        "x_dataset = scaler.fit_transform(x_dataset)"
      ]
    },
    {
      "cell_type": "code",
      "execution_count": null,
      "metadata": {
        "id": "LcQyVN4Pnx1a"
      },
      "outputs": [],
      "source": [
        "from sklearn.model_selection import train_test_split"
      ]
    },
    {
      "cell_type": "code",
      "execution_count": null,
      "metadata": {
        "id": "z1x15XfQnx1a"
      },
      "outputs": [],
      "source": [
        "x_dataset_treinamento, x_dataset_teste, y_dataset_treinamento, y_dataset_teste = train_test_split(x_dataset, y_dataset, test_size = 0.10, random_state = 0)"
      ]
    },
    {
      "cell_type": "code",
      "source": [
        "df_imputer = SimpleImputer()\n",
        "x_dataset_treinamento = df_imputer.fit_transform(x_dataset_treinamento)\n",
        "x_dataset_teste = df_imputer.transform(x_dataset_teste)"
      ],
      "metadata": {
        "id": "qEPtzM-p1a8f"
      },
      "execution_count": null,
      "outputs": []
    },
    {
      "cell_type": "code",
      "execution_count": null,
      "metadata": {
        "id": "RR1wBSH-nx1b",
        "outputId": "537187c4-fdb0-4ee6-b948-0065e11bb1ab",
        "colab": {
          "base_uri": "https://localhost:8080/"
        }
      },
      "outputs": [
        {
          "output_type": "execute_result",
          "data": {
            "text/plain": [
              "((1800000, 6), (1800000,))"
            ]
          },
          "metadata": {},
          "execution_count": 21
        }
      ],
      "source": [
        "x_dataset_treinamento.shape, y_dataset_treinamento.shape"
      ]
    },
    {
      "cell_type": "code",
      "execution_count": null,
      "metadata": {
        "id": "c6D8iu3vnx1b",
        "outputId": "ebe0b984-2e2e-4315-bcb6-0b49fcbd8999",
        "colab": {
          "base_uri": "https://localhost:8080/"
        }
      },
      "outputs": [
        {
          "output_type": "execute_result",
          "data": {
            "text/plain": [
              "((200000, 6), (200000,))"
            ]
          },
          "metadata": {},
          "execution_count": 22
        }
      ],
      "source": [
        "x_dataset_teste.shape, y_dataset_teste.shape"
      ]
    },
    {
      "cell_type": "code",
      "source": [
        "from sklearn.preprocessing import StandardScaler\n",
        "scaler = StandardScaler()\n",
        "x_dataset = scaler.fit_transform(x_dataset)"
      ],
      "metadata": {
        "id": "ecXhkKiYytZB"
      },
      "execution_count": null,
      "outputs": []
    },
    {
      "cell_type": "code",
      "source": [
        "x_dataset[0]"
      ],
      "metadata": {
        "colab": {
          "base_uri": "https://localhost:8080/"
        },
        "id": "9hLIKDvSyzcb",
        "outputId": "600fbb43-f979-4b87-f33b-4b4266d2146d"
      },
      "execution_count": null,
      "outputs": [
        {
          "output_type": "execute_result",
          "data": {
            "text/plain": [
              "array([ -0.69784282,  -0.87692044,  -2.5796534 ,  -2.16961962,\n",
              "        -1.34367861, -25.18192513])"
            ]
          },
          "metadata": {},
          "execution_count": 24
        }
      ]
    },
    {
      "cell_type": "markdown",
      "metadata": {
        "id": "hUiDgE4inx1c"
      },
      "source": [
        "##  Treinamento"
      ]
    },
    {
      "cell_type": "code",
      "execution_count": null,
      "metadata": {
        "id": "CmF10bKXnx1h"
      },
      "outputs": [],
      "source": [
        "import pickle"
      ]
    },
    {
      "cell_type": "code",
      "execution_count": null,
      "metadata": {
        "id": "B-eIDfiDnx1h"
      },
      "outputs": [],
      "source": [
        "with open('dataset.pkl', mode = 'wb') as f: # Arquivo que vamos salvar e wb = write, f = variável utilizada para salvar em disco\n",
        "  pickle.dump([x_dataset_treinamento, y_dataset_treinamento, x_dataset_teste, y_dataset_teste], f) # variáveis no formato de lista"
      ]
    },
    {
      "cell_type": "code",
      "execution_count": null,
      "metadata": {
        "id": "wRiwE9Eynx1i"
      },
      "outputs": [],
      "source": [
        "with open('dataset.pkl', 'rb') as f:\n",
        "  x_dataset_treinamento, y_dataset_treinamento, x_dataset_teste, y_dataset_teste = pickle.load(f)"
      ]
    },
    {
      "cell_type": "code",
      "execution_count": null,
      "metadata": {
        "id": "4mO-tiDlnx1j"
      },
      "outputs": [],
      "source": [
        "from sklearn.naive_bayes import GaussianNB"
      ]
    },
    {
      "cell_type": "code",
      "execution_count": null,
      "metadata": {
        "id": "VCSTCVYknx1j",
        "outputId": "ee2b3c6b-c87b-45e3-f1e2-fe054834bc82",
        "colab": {
          "base_uri": "https://localhost:8080/"
        }
      },
      "outputs": [
        {
          "output_type": "execute_result",
          "data": {
            "text/plain": [
              "array([0, 0, 1, ..., 0, 1, 0])"
            ]
          },
          "metadata": {},
          "execution_count": 29
        }
      ],
      "source": [
        "naive_dataset = GaussianNB()\n",
        "naive_dataset.fit(x_dataset_treinamento, y_dataset_treinamento)\n",
        "\n",
        "previsoes = naive_dataset.predict(x_dataset_teste)\n",
        "previsoes"
      ]
    },
    {
      "cell_type": "code",
      "execution_count": null,
      "metadata": {
        "id": "3vqCTbCLnx1k",
        "outputId": "4fc0c18a-8585-4aca-870a-3cf69d304796",
        "colab": {
          "base_uri": "https://localhost:8080/"
        }
      },
      "outputs": [
        {
          "output_type": "execute_result",
          "data": {
            "text/plain": [
              "array([0, 0, 1, ..., 1, 1, 0])"
            ]
          },
          "metadata": {},
          "execution_count": 30
        }
      ],
      "source": [
        "y_dataset_teste"
      ]
    },
    {
      "cell_type": "code",
      "source": [
        "from sklearn.neighbors import KNeighborsClassifier\n",
        "knn = KNeighborsClassifier()\n",
        "from sklearn.model_selection import GridSearchCV\n",
        "k_range = list(range(1, 31))\n",
        "param_grid = dict(n_neighbors=k_range)\n",
        "\n",
        "grid = GridSearchCV(knn, param_grid, cv=10, scoring='accuracy', return_train_score=False,verbose=1)\n",
        "\n",
        "grid_search=grid.fit(x_dataset_treinamento, y_dataset_treinamento)"
      ],
      "metadata": {
        "colab": {
          "base_uri": "https://localhost:8080/"
        },
        "id": "pJTd0dQPFul8",
        "outputId": "ea5578ad-42a5-4221-d083-3b7d83fa2e4c"
      },
      "execution_count": null,
      "outputs": [
        {
          "output_type": "stream",
          "name": "stdout",
          "text": [
            "Fitting 10 folds for each of 30 candidates, totalling 300 fits\n"
          ]
        }
      ]
    },
    {
      "cell_type": "code",
      "source": [
        "print(grid_search.best_params_)\n",
        "accuracy = grid_search.best_score_ *100\n",
        "print(\"Accuracy: {:.2f}%\".format(accuracy) )"
      ],
      "metadata": {
        "colab": {
          "base_uri": "https://localhost:8080/"
        },
        "id": "7nIFaXRIGO0P",
        "outputId": "fb298ff2-ee10-4f02-a07d-0d7bea36defd"
      },
      "execution_count": null,
      "outputs": [
        {
          "output_type": "stream",
          "name": "stdout",
          "text": [
            "{'n_neighbors': 29}\n",
            "Accuracy: 82.19%\n"
          ]
        }
      ]
    },
    {
      "cell_type": "code",
      "source": [
        "#from xgboost import XGBClassifier\n",
        "#model = XGBClassifier()\n",
        "#model.fit(x_dataset_treinamento, y_dataset_treinamento)"
      ],
      "metadata": {
        "id": "vQxuKreu1z0Y"
      },
      "execution_count": null,
      "outputs": []
    },
    {
      "cell_type": "code",
      "source": [
        "# make predictions for test data\n",
        "#y_pred = model.predict(x_dataset_teste)\n",
        "#predictions = [round(value) for value in y_pred]"
      ],
      "metadata": {
        "id": "P990JC1d4QL7"
      },
      "execution_count": null,
      "outputs": []
    },
    {
      "cell_type": "code",
      "source": [
        "# evaluate predictions\n",
        "#accuracy = accuracy_score(y_dataset_teste, predictions)\n",
        "#print(\"Accuracy: %.2f%%\" % (accuracy * 100.0))"
      ],
      "metadata": {
        "id": "SicbhWCa4R6R"
      },
      "execution_count": null,
      "outputs": []
    },
    {
      "cell_type": "markdown",
      "metadata": {
        "id": "yT8-agYgnx1k"
      },
      "source": [
        "## Testes de acuracia"
      ]
    },
    {
      "cell_type": "code",
      "execution_count": null,
      "metadata": {
        "id": "VWfBUyVbnx1l"
      },
      "outputs": [],
      "source": [
        "from sklearn.metrics import accuracy_score, confusion_matrix, classification_report"
      ]
    },
    {
      "cell_type": "code",
      "execution_count": null,
      "metadata": {
        "id": "lltVJYZ8nx1l",
        "outputId": "573c8d52-9740-408f-fefa-6e6ee3d16803",
        "colab": {
          "base_uri": "https://localhost:8080/"
        }
      },
      "outputs": [
        {
          "output_type": "execute_result",
          "data": {
            "text/plain": [
              "0.819835"
            ]
          },
          "metadata": {},
          "execution_count": 37
        }
      ],
      "source": [
        "accuracy_score(y_dataset_teste, previsoes)"
      ]
    },
    {
      "cell_type": "code",
      "execution_count": null,
      "metadata": {
        "id": "iCdg7H9Lnx1l",
        "outputId": "b95bead0-bdb2-4afb-87fc-ea45161a52b8",
        "colab": {
          "base_uri": "https://localhost:8080/"
        }
      },
      "outputs": [
        {
          "output_type": "execute_result",
          "data": {
            "text/plain": [
              "array([[ 47689,  21317],\n",
              "       [ 14716, 116278]])"
            ]
          },
          "metadata": {},
          "execution_count": 38
        }
      ],
      "source": [
        "confusion_matrix(y_dataset_teste, previsoes)"
      ]
    },
    {
      "cell_type": "code",
      "execution_count": null,
      "metadata": {
        "id": "CiY-LxKTnx1m"
      },
      "outputs": [],
      "source": [
        "from yellowbrick.classifier import ConfusionMatrix"
      ]
    },
    {
      "cell_type": "code",
      "execution_count": null,
      "metadata": {
        "id": "ulOcFGrGnx1m",
        "outputId": "80de62d1-ebee-4875-ee28-c71f697ac191",
        "colab": {
          "base_uri": "https://localhost:8080/",
          "height": 361
        }
      },
      "outputs": [
        {
          "output_type": "execute_result",
          "data": {
            "text/plain": [
              "0.819835"
            ]
          },
          "metadata": {},
          "execution_count": 40
        },
        {
          "output_type": "display_data",
          "data": {
            "text/plain": [
              "<Figure size 576x396 with 1 Axes>"
            ],
            "image/png": "[encoded data removed]"
          },
          "metadata": {}
        }
      ],
      "source": [
        "cm = ConfusionMatrix(naive_dataset)\n",
        "cm.fit(x_dataset_treinamento, y_dataset_treinamento)\n",
        "cm.score(x_dataset_teste, y_dataset_teste)"
      ]
    },
    {
      "cell_type": "code",
      "execution_count": null,
      "metadata": {
        "id": "LnVw8BG-nx1n",
        "outputId": "6659eacc-8379-4f19-cb4a-0cbceef62508",
        "colab": {
          "base_uri": "https://localhost:8080/"
        }
      },
      "outputs": [
        {
          "output_type": "stream",
          "name": "stdout",
          "text": [
            "              precision    recall  f1-score   support\n",
            "\n",
            "           0       0.76      0.69      0.73     69006\n",
            "           1       0.85      0.89      0.87    130994\n",
            "\n",
            "    accuracy                           0.82    200000\n",
            "   macro avg       0.80      0.79      0.80    200000\n",
            "weighted avg       0.82      0.82      0.82    200000\n",
            "\n"
          ]
        }
      ],
      "source": [
        "print(classification_report(y_dataset_teste, previsoes))"
      ]
    },
    {
      "cell_type": "code",
      "source": [
        "print(classification_report(y_dataset_teste, predictions))"
      ],
      "metadata": {
        "colab": {
          "base_uri": "https://localhost:8080/",
          "height": 165
        },
        "id": "1PiK5NGW7LzS",
        "outputId": "aaee5e50-6206-41fb-c846-d3867afab558"
      },
      "execution_count": null,
      "outputs": [
        {
          "output_type": "error",
          "ename": "NameError",
          "evalue": "ignored",
          "traceback": [
            "\u001b[0;31m---------------------------------------------------------------------------\u001b[0m",
            "\u001b[0;31mNameError\u001b[0m                                 Traceback (most recent call last)",
            "\u001b[0;32m<ipython-input-42-63ecee37a486>\u001b[0m in \u001b[0;36m<module>\u001b[0;34m\u001b[0m\n\u001b[0;32m----> 1\u001b[0;31m \u001b[0mprint\u001b[0m\u001b[0;34m(\u001b[0m\u001b[0mclassification_report\u001b[0m\u001b[0;34m(\u001b[0m\u001b[0my_dataset_teste\u001b[0m\u001b[0;34m,\u001b[0m \u001b[0mpredictions\u001b[0m\u001b[0;34m)\u001b[0m\u001b[0;34m)\u001b[0m\u001b[0;34m\u001b[0m\u001b[0;34m\u001b[0m\u001b[0m\n\u001b[0m",
            "\u001b[0;31mNameError\u001b[0m: name 'predictions' is not defined"
          ]
        }
      ]
    },
    {
      "cell_type": "code",
      "source": [
        "cm = ConfusionMatrix(model)\n",
        "cm.fit(x_dataset_treinamento, y_dataset_treinamento)\n",
        "cm.score(x_dataset_teste, y_dataset_teste)"
      ],
      "metadata": {
        "id": "4RH58mmk668W"
      },
      "execution_count": null,
      "outputs": []
    },
    {
      "cell_type": "code",
      "source": [
        "parametros = {'criterion' : ['gni', 'entropy'],\n",
        "              'splitter' : ['best', 'random'],\n",
        "              'min_samples_split' : [2, 5, 10],\n",
        "              'min_samples_leaf' : [1, 5, 10]}"
      ],
      "metadata": {
        "id": "bfz-Lu6-Bxpg"
      },
      "execution_count": null,
      "outputs": []
    },
    {
      "cell_type": "code",
      "source": [
        "x_dataset = np.concatenate((x_dataset_treinamento, x_dataset_teste), axis = 0)\n",
        "x_dataset.shape"
      ],
      "metadata": {
        "id": "8Imrn_kID0TF"
      },
      "execution_count": null,
      "outputs": []
    },
    {
      "cell_type": "code",
      "source": [
        "y_dataset = np.concatenate((y_dataset_treinamento, y_dataset_teste), axis = 0)\n",
        "y_dataset.shape"
      ],
      "metadata": {
        "id": "lTrN270mEKlB"
      },
      "execution_count": null,
      "outputs": []
    },
    {
      "cell_type": "code",
      "source": [
        "from sklearn.model_selection import GridSearchCV\n",
        "from sklearn.neighbors import KNeighborsClassifier\n",
        "grid_search = GridSearchCV(estimator=KNeighborsClassifier(n_neighbors=5), param_grid = parametros)\n",
        "grid_search.fit(x_dataset, y_dataset)"
      ],
      "metadata": {
        "id": "qrdddtqJCUc-"
      },
      "execution_count": null,
      "outputs": []
    },
    {
      "cell_type": "code",
      "source": [
        "melhores_parametros = grid_search.best_params_\n",
        "melhor_resultado = grid_search.best_score_\n",
        "print(melhores_parametros)\n",
        "print(melhor_resultado)"
      ],
      "metadata": {
        "id": "g3pm4s-4C4DY"
      },
      "execution_count": null,
      "outputs": []
    }
  ],
  "metadata": {
    "kernelspec": {
      "display_name": "Python 3.11.0 64-bit",
      "language": "python",
      "name": "python3"
    },
    "language_info": {
      "codemirror_mode": {
        "name": "ipython",
        "version": 3
      },
      "file_extension": ".py",
      "mimetype": "text/x-python",
      "name": "python",
      "nbconvert_exporter": "python",
      "pygments_lexer": "ipython3",
      "version": "3.11.0"
    },
    "orig_nbformat": 4,
    "vscode": {
      "interpreter": {
        "hash": "cb4d6e1f8faa24e8815b76d053b36fb05b5b793eccca6d79cdfc27bda3b84b40"
      }
    },
    "colab": {
      "provenance": []
    }
  },
  "nbformat": 4,
  "nbformat_minor": 0
}