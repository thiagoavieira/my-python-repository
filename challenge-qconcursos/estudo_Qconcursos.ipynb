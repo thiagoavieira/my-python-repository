{
 "cells": [
  {
   "attachments": {},
   "cell_type": "markdown",
   "metadata": {},
   "source": [
    "# Criação de um Dataset com análises de porcentagem"
   ]
  },
  {
   "attachments": {},
   "cell_type": "markdown",
   "metadata": {},
   "source": [
    "## Importação das bibliotecas e do Dataset Modelo 📚\n",
    "> ⚠️**ATENÇÃO**⚠️ Mudar o diretório caso vá importar de uma máquina diferente"
   ]
  },
  {
   "cell_type": "code",
   "execution_count": null,
   "metadata": {},
   "outputs": [],
   "source": [
    "import pandas as pd\n",
    "import numpy as np\n",
    "\n",
    "dataset = pd.read_csv(r'C:\\Users\\migsk\\Documents\\Projeto DIO\\QConcursos\\Dataset_model.csv', low_memory=False)"
   ]
  },
  {
   "attachments": {},
   "cell_type": "markdown",
   "metadata": {},
   "source": [
    "## Tratando valores nulos e ordenando o Dataset por data ⚙️"
   ]
  },
  {
   "cell_type": "code",
   "execution_count": null,
   "metadata": {},
   "outputs": [],
   "source": [
    "dataset['examining_board_id'].fillna(0, inplace=True)\n",
    "sorted_by_time_and_id = dataset.sort_values(by=[\"novo_user_id\", \"created_at\"], ascending=True)\n",
    "sorted_by_time = dataset.sort_values(\"created_at\")"
   ]
  },
  {
   "attachments": {},
   "cell_type": "markdown",
   "metadata": {},
   "source": [
    "## Criação de um dataframe 'df1' 📊\n",
    "> **Conteúdo:** 'created_at' | 'id' | 'questao' | '% de acerto da banca'"
   ]
  },
  {
   "cell_type": "code",
   "execution_count": null,
   "metadata": {},
   "outputs": [],
   "source": [
    "def acerto_usuario():\n",
    "  acertou = 0\n",
    "  if (sorted_by_time['acertou'][linha]):\n",
    "    acertou = 1\n",
    "  return sorted_by_time['acertou'].head(linha+1).value_counts(normalize=True)[1]*100 if acertou else 0\n",
    "\n",
    "def acerto_questoes(question_id, acertos, erros):\n",
    "  return acertos+1 if (sorted_by_time.loc[sorted_by_time['novo_question_id'] == question_id, ['acertou']].head(linha+1) == 1) else erros+1\n",
    "\n",
    "def verifica_primeira_questao(question_id):\n",
    "  return {question_id: {'acertos': 1, 'erros': 0}} if sorted_by_time['acertou'][linha] else {question_id: {'acertos': 0, 'erros': 1}}\n",
    "\n",
    "def atualiza_porcentagem(mapa_questoes, question_id):\n",
    "  if(sorted_by_time['acertou'][linha]):\n",
    "    mapa_questoes[question_id]['acertos'] += 1\n",
    "  else:\n",
    "    mapa_questoes[question_id]['erros'] += 1\n",
    "\n",
    "def verifica_primeira_questao_banca(examining_board_id):\n",
    "  return {examining_board_id: {'acertos': 1, 'erros': 0}} if sorted_by_time['acertou'][linha] else {examining_board_id: {'acertos': 0, 'erros': 1}}\n",
    "\n",
    "def atualiza_porcentagem_banca(mapa_banca, examining_board_id):\n",
    "  if(sorted_by_time['acertou'][linha]):\n",
    "    mapa_banca[examining_board_id]['acertos'] += 1\n",
    "  else:\n",
    "    mapa_banca[examining_board_id]['erros'] += 1\n",
    "\n",
    "data = []\n",
    "mapa_questoes = {}\n",
    "mapa_banca = {}\n",
    "\n",
    "for linha in range(len(dataset)):\n",
    "  quando_respondeu = sorted_by_time['created_at'].iloc[linha]\n",
    "  usuario = sorted_by_time['novo_user_id'].iloc[linha]\n",
    "  question_id = sorted_by_time['novo_question_id'].iloc[linha]\n",
    "  examining_board_id = sorted_by_time['examining_board_id'].iloc[linha]\n",
    "\n",
    "  if (question_id not in mapa_questoes): \n",
    "    mapa_questoes.update(verifica_primeira_questao(question_id))\n",
    "  else: \n",
    "    atualiza_porcentagem(mapa_questoes, question_id)\n",
    "\n",
    "  if (examining_board_id not in mapa_banca):\n",
    "    mapa_banca.update(verifica_primeira_questao_banca(examining_board_id))\n",
    "  else:\n",
    "    atualiza_porcentagem_banca(mapa_banca, examining_board_id)\n",
    "\n",
    "  data += [\n",
    "      {'created_at': quando_respondeu,\n",
    "       'id': usuario, \n",
    "       'questao': question_id,\n",
    "       '% de acerto da questao': (mapa_questoes[question_id][\"acertos\"]/(mapa_questoes[question_id][\"acertos\"]+mapa_questoes[question_id][\"erros\"])*100),\n",
    "       '% de acerto da banca': (mapa_banca[examining_board_id][\"acertos\"]/(mapa_banca[examining_board_id][\"acertos\"]+mapa_banca[examining_board_id][\"erros\"])*100)\n",
    "       }\n",
    "  ]\n",
    "df1 = pd.DataFrame(data)\n",
    "df1.to_csv(\"df1.csv\")"
   ]
  },
  {
   "attachments": {},
   "cell_type": "markdown",
   "metadata": {},
   "source": [
    "## Criação de um dataframe 'df2' 📊\n",
    "> **Conteúdo:** 'created_at' | 'id' | 'acertou' | 'difficulty' | 'commented_by_professor' | 'discipline_id' | 'examining_board_id' | 'knowlodge_area_id' | 'institute_id' | 'modality_id' | '% de acerto do usuario' | '% de acerto das ultimas 5'"
   ]
  },
  {
   "cell_type": "code",
   "execution_count": null,
   "metadata": {},
   "outputs": [],
   "source": [
    "data = []\n",
    "count_linhas = 0\n",
    "for i in range(99, 2000000, 100):\n",
    "  qtd_respostas = sorted_by_time_and_id[\"acertou\"][i-99:i+1]\n",
    "  aluno = sorted_by_time_and_id['novo_user_id'][i-1]\n",
    "\n",
    "  x = 0\n",
    "  count_0_ate_100 = 0\n",
    "  for questao in qtd_respostas:\n",
    "    count_0_ate_100 += 1\n",
    "    x += questao\n",
    "\n",
    "    if count_0_ate_100 > 5:\n",
    "      ultimas_5 = qtd_respostas[count_0_ate_100-5:count_0_ate_100].sum()\n",
    "      data += [\n",
    "        {'id': aluno,\n",
    "        'created_at': sorted_by_time_and_id[\"created_at\"][count_linhas],\n",
    "        'acertou': sorted_by_time_and_id[\"acertou\"][count_linhas],\n",
    "        'difficulty': sorted_by_time_and_id[\"difficulty\"][count_linhas],\n",
    "        'commented_by_professor': sorted_by_time_and_id[\"commented_by_professor\"][count_linhas],\n",
    "        'discipline_id': sorted_by_time_and_id[\"discipline_id\"][count_linhas],\n",
    "        'examining_board_id': sorted_by_time_and_id[\"examining_board_id\"][count_linhas],\n",
    "        'knowledge_area_id': sorted_by_time_and_id['knowledge_area_id'][count_linhas],\n",
    "        'institute_id': sorted_by_time_and_id[\"institute_id\"][count_linhas],\n",
    "        'modality_id': sorted_by_time_and_id[\"modality_id\"][count_linhas],\n",
    "        '% de acerto do usuario': x/count_0_ate_100*100,\n",
    "        '% de acerto das ultimas 5': ultimas_5/5*100 \n",
    "        }]\n",
    "    else:\n",
    "      div = 0\n",
    "      if(count_0_ate_100 == 1):\n",
    "        ultimas_5 = qtd_respostas[0:count_0_ate_100].sum()\n",
    "        div = 1\n",
    "      elif(count_0_ate_100 == 2):\n",
    "        ultimas_5 = qtd_respostas[0:count_0_ate_100].sum()\n",
    "        div = 2\n",
    "      elif(count_0_ate_100 == 3):\n",
    "        ultimas_5 = qtd_respostas[0:count_0_ate_100].sum()\n",
    "        div = 3\n",
    "      elif(count_0_ate_100 == 4):\n",
    "        ultimas_5 = qtd_respostas[0:count_0_ate_100].sum()\n",
    "        div = 4\n",
    "      elif(count_0_ate_100 == 5):\n",
    "        ultimas_5 = qtd_respostas[0:count_0_ate_100].sum()\n",
    "        div = 5\n",
    "      data += [\n",
    "        {'id': aluno, \n",
    "        'created_at': sorted_by_time_and_id[\"created_at\"][count_linhas], \n",
    "        'acertou': sorted_by_time_and_id[\"acertou\"][count_linhas], \n",
    "        'difficulty': sorted_by_time_and_id[\"difficulty\"][count_linhas],\n",
    "        'commented_by_professor': sorted_by_time_and_id[\"commented_by_professor\"][count_linhas],\n",
    "        'discipline_id': sorted_by_time_and_id[\"discipline_id\"][count_linhas],\n",
    "        'examining_board_id': sorted_by_time_and_id[\"examining_board_id\"][count_linhas],\n",
    "        'knowledge_area_id': sorted_by_time_and_id['knowledge_area_id'][count_linhas],\n",
    "        'institute_id': sorted_by_time_and_id[\"institute_id\"][count_linhas],\n",
    "        'modality_id': sorted_by_time_and_id[\"modality_id\"][count_linhas],\n",
    "        '% de acerto do usuario': x/count_0_ate_100*100,\n",
    "        '% de acerto das ultimas 5': ultimas_5/div*100 }]\n",
    "    count_linhas += 1\n",
    "      \n",
    "df_porc_ultimas_5 = pd.DataFrame(data)\n",
    "df_porc_ultimas_5_sorted_by_time = df_porc_ultimas_5.sort_values(\"created_at\")\n",
    "df_porc_ultimas_5_sorted_by_time.to_csv(\"df2.csv\")"
   ]
  },
  {
   "attachments": {},
   "cell_type": "markdown",
   "metadata": {},
   "source": [
    "## Importando os dois Dataframes criados e realizando a concatenação 🔗"
   ]
  },
  {
   "cell_type": "code",
   "execution_count": null,
   "metadata": {},
   "outputs": [],
   "source": [
    "df1 = pd.read_csv(r'C:\\Users\\migsk\\Documents\\Projeto DIO\\QConcursos\\df1.csv')\n",
    "df2 = pd.read_csv(r'C:\\Users\\migsk\\Documents\\Projeto DIO\\QConcursos\\df2.csv')\n",
    "\n",
    "dataset_instantes = pd.concat([df1, df2], axis=1)\n",
    "dataset_instantes = dataset_instantes.iloc[:, [2, 1, 9, 3, 13, 17, 18, 4, 5, 10, 11, 12, 14, 15, 16]]\n",
    "\n",
    "dataset_instantes.to_csv(\"dataset_instantes_2.csv\")"
   ]
  },
  {
   "cell_type": "code",
   "execution_count": null,
   "metadata": {},
   "outputs": [],
   "source": [
    "ds = pd.read_csv(r'C:\\Users\\migsk\\Documents\\Projeto DIO\\QConcursos\\Dataset_model.csv', low_memory=False)\n",
    "ds_instantes = pd.read_csv(r'C:\\Users\\migsk\\Documents\\Projeto DIO\\QConcursos\\dataset_instantes_2.csv', low_memory=False)\n",
    "ds_instantes = ds_instantes.drop(columns=['Unnamed: 0'])"
   ]
  },
  {
   "cell_type": "code",
   "execution_count": null,
   "metadata": {},
   "outputs": [],
   "source": [
    "def verifica_primeira_questao(questao_atual):\n",
    "  return {questao_atual: {'acertos': 1, 'erros': 0}} if ds['acertou'][linha] else {questao_atual: {'acertos': 0, 'erros': 1}}\n",
    "\n",
    "def atualiza_porcentagem(acerto_questoes, questao_atual):\n",
    "  if(ds['acertou'][linha]):\n",
    "    acerto_questoes[questao_atual]['acertos'] += 1\n",
    "  else:\n",
    "    acerto_questoes[questao_atual]['erros'] += 1\n",
    "\n",
    "def porcent_acerto():\n",
    "  return (acerto_questoes[questoes[item]][\"acertos\"]/(acerto_questoes[questoes[item]][\"acertos\"]+acerto_questoes[questoes[item]][\"erros\"])*100)\n",
    "\n",
    "def dificuldade(porcent, qts_respostas):\n",
    "  dificuldade = 'Fácil' if porcent > 60 and qtd_respostas > 5 else 'Difícil' if porcent < 30 and qtd_respostas > 5 else 'Médio' if porcent >= 30 and porcent <= 60 and qtd_respostas > 5 else 'Não respondeu 5'\n",
    "  return(dificuldade)\n",
    "\n",
    "\n",
    "acerto_questoes = {}\n",
    "data = []\n",
    "for linha in range(len(ds)):\n",
    "  questao_atual = ds['novo_question_id'].iloc[linha]\n",
    "  var_dificuldade = ds['difficulty'].iloc[linha]\n",
    "\n",
    "  if (questao_atual not in acerto_questoes):\n",
    "    acerto_questoes.update(verifica_primeira_questao(questao_atual))\n",
    "  else:\n",
    "    atualiza_porcentagem(acerto_questoes, questao_atual)\n",
    "\n",
    "questoes = [*acerto_questoes]\n",
    "for item in range(len(acerto_questoes)):\n",
    "  porcent = porcent_acerto()\n",
    "  qtd_respostas = acerto_questoes[questoes[item]][\"acertos\"] + acerto_questoes[questoes[item]][\"erros\"]\n",
    "  data += [\n",
    "      {\n",
    "      'Questão' : questoes[item],\n",
    "      '% de acertos': porcent,\n",
    "      'Dificuldade': dificuldade(porcent, qtd_respostas),\n",
    "      }\n",
    "  ]\n",
    "\n",
    "df = pd.DataFrame(data)\n",
    "ordenadin = df.sort_values(by='Questão')\n",
    "ordenadin"
   ]
  },
  {
   "cell_type": "code",
   "execution_count": null,
   "metadata": {},
   "outputs": [],
   "source": [
    "ds_instantes = ds_instantes.merge(df, left_on='questao', right_on='Questão')\n",
    "ds_instantes = ds_instantes.drop(columns=['Questão'])\n",
    "ds_instantes = ds_instantes.drop(columns=['Dificuldade'])\n",
    "ds_instantes.rename(columns={'% de acertos': '% de acertos total da questao'}, inplace = True)\n",
    "ds_instantes = ds_instantes[['id', 'created_at', 'acertou', 'questao', 'examining_board_id', '% de acerto do usuario', '% de acerto das ultimas 5', '% de acerto da questao','% de acertos total da questao', '% de acerto da banca', 'difficulty', 'commented_by_professor', 'discipline_id', 'knowledge_area_id', 'institute_id', 'modality_id']]\n",
    "ds_instantes = ds_instantes.sort_values(by=\"created_at\")\n",
    "\n",
    "ds_instantes.to_csv(\"dataset_instantes.csv\")"
   ]
  }
 ],
 "metadata": {
  "kernelspec": {
   "display_name": "Python 3",
   "language": "python",
   "name": "python3"
  },
  "language_info": {
   "codemirror_mode": {
    "name": "ipython",
    "version": 3
   },
   "file_extension": ".py",
   "mimetype": "text/x-python",
   "name": "python",
   "nbconvert_exporter": "python",
   "pygments_lexer": "ipython3",
   "version": "3.11.0"
  },
  "orig_nbformat": 4,
  "vscode": {
   "interpreter": {
    "hash": "cb4d6e1f8faa24e8815b76d053b36fb05b5b793eccca6d79cdfc27bda3b84b40"
   }
  }
 },
 "nbformat": 4,
 "nbformat_minor": 2
}
