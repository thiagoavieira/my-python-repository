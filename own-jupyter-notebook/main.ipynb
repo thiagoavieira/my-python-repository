{
 "cells": [
  {
   "cell_type": "markdown",
   "metadata": {},
   "source": [
    "# Initial imports"
   ]
  },
  {
   "cell_type": "code",
   "execution_count": 1,
   "metadata": {},
   "outputs": [
    {
     "name": "stdout",
     "output_type": "stream",
     "text": [
      "Requirement already satisfied: plotly in c:\\users\\thiag\\appdata\\local\\programs\\python\\python310\\lib\\site-packages (5.11.0)\n",
      "Requirement already satisfied: tenacity>=6.2.0 in c:\\users\\thiag\\appdata\\local\\programs\\python\\python310\\lib\\site-packages (from plotly) (8.1.0)\n"
     ]
    }
   ],
   "source": [
    "!pip install plotly --upgrade"
   ]
  },
  {
   "cell_type": "code",
   "execution_count": 2,
   "metadata": {},
   "outputs": [],
   "source": [
    "import pandas as pd   # lib pra trabalhar com o carregamento de arquivos .csv\n",
    "import numpy as np    # lib pra processamento de matrizes\n",
    "import seaborn as sns # lib pra visualização de gráficos\n",
    "import matplotlib.pyplot as plt # lib pra visualização de gráficos também\n",
    "import plotly.express as px # lib pra gerar gráficos dinâmicos"
   ]
  },
  {
   "cell_type": "code",
   "execution_count": 3,
   "metadata": {},
   "outputs": [],
   "source": [
    "from sklearn.model_selection import train_test_split\n",
    "from sklearn.preprocessing import LabelEncoder\n",
    "from sklearn.preprocessing import OneHotEncoder\n",
    "from sklearn.compose import ColumnTransformer\n",
    "from sklearn.naive_bayes import GaussianNB, BernoulliNB, MultinomialNB\n",
    "from sklearn.metrics import accuracy_score, confusion_matrix, classification_report\n",
    "from yellowbrick.classifier import ConfusionMatrix\n",
    "from sklearn.preprocessing import StandardScaler\n",
    "import pickle"
   ]
  },
  {
   "cell_type": "code",
   "execution_count": null,
   "metadata": {},
   "outputs": [],
   "source": [
    "submit = pd.read_csv(r'C:\\Users\\thiag\\Downloads\\Planilhas Estudos\\sigmageek\\Submit.csv', delimiter=';', skiprows=0, low_memory=False)\n",
    "dataset = pd.read_csv(r'C:\\Users\\thiag\\Downloads\\Planilhas Estudos\\sigmageek\\Dataset_model.csv', delimiter=',', skiprows=0, low_memory=False)\n",
    "subjects = pd.read_csv(r'C:\\Users\\thiag\\Downloads\\Planilhas Estudos\\sigmageek\\subjects_questions.csv', delimiter=',', skiprows=0, low_memory=False)"
   ]
  }
 ],
 "metadata": {
  "kernelspec": {
   "display_name": "Python 3.10.2 64-bit",
   "language": "python",
   "name": "python3"
  },
  "language_info": {
   "codemirror_mode": {
    "name": "ipython",
    "version": 3
   },
   "file_extension": ".py",
   "mimetype": "text/x-python",
   "name": "python",
   "nbconvert_exporter": "python",
   "pygments_lexer": "ipython3",
   "version": "3.10.2"
  },
  "orig_nbformat": 4,
  "vscode": {
   "interpreter": {
    "hash": "d044c6e0ce06759120adefce77398d00e1228e64d92f3f185fbd024a7701b8e0"
   }
  }
 },
 "nbformat": 4,
 "nbformat_minor": 2
}
